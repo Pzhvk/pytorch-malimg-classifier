{
 "nbformat": 4,
 "nbformat_minor": 0,
 "metadata": {
  "colab": {
   "provenance": [],
   "gpuType": "T4"
  },
  "kernelspec": {
   "name": "python3",
   "display_name": "Python 3"
  },
  "language_info": {
   "name": "python"
  },
  "accelerator": "GPU"
 },
 "cells": [
  {
   "cell_type": "markdown",
   "source": [
    "# Importing Libraries"
   ],
   "metadata": {
    "id": "O06slt0B5tRZ"
   }
  },
  {
   "cell_type": "code",
   "source": [
    "import os\n",
    "import numpy as np\n",
    "from PIL import Image\n",
    "from sklearn.preprocessing import LabelEncoder\n",
    "from sklearn.model_selection import train_test_split\n",
    "import torch\n",
    "from torch.utils.data import Dataset, DataLoader\n",
    "import torch.nn as nn\n",
    "import torch.nn.functional as F"
   ],
   "metadata": {
    "id": "ImJCc0Xo5u-5"
   },
   "outputs": [],
   "execution_count": null
  },
  {
   "cell_type": "markdown",
   "source": "# Uploading File And Creating Dataset",
   "metadata": {
    "id": "s2zwhwh4bOQ1"
   }
  },
  {
   "cell_type": "markdown",
   "source": "### Uploading File",
   "metadata": {
    "id": "jvsw5l2lci6L"
   }
  },
  {
   "cell_type": "code",
   "metadata": {
    "colab": {
     "base_uri": "https://localhost:8080/",
     "height": 91
    },
    "id": "fKtXjUplXGhf",
    "outputId": "6fecbc66-58d8-4227-a031-da4abe3e5e41"
   },
   "source": [
    "from google.colab import files\n",
    "files.upload()"
   ],
   "outputs": [],
   "execution_count": null
  },
  {
   "cell_type": "markdown",
   "source": "### Moving File",
   "metadata": {
    "id": "Dt857Z2Lc4VD"
   }
  },
  {
   "cell_type": "code",
   "source": [
    "!mkdir -p ~/.kaggle\n",
    "!cp kaggle.json ~/.kaggle/\n",
    "!chmod 600 ~/.kaggle/kaggle.json"
   ],
   "metadata": {
    "id": "Qra7asyFX4W5"
   },
   "outputs": [],
   "execution_count": null
  },
  {
   "cell_type": "markdown",
   "source": "### Downloading Dataset",
   "metadata": {
    "id": "6sA98Mloc_tM"
   }
  },
  {
   "cell_type": "code",
   "source": [
    "import kagglehub\n",
    "path = kagglehub.dataset_download(\"manmandes/malimg\")\n",
    "print(\"Path to dataset files:\", path)"
   ],
   "metadata": {
    "colab": {
     "base_uri": "https://localhost:8080/"
    },
    "id": "j7FJaAiFYSLx",
    "outputId": "c8df66ae-628a-49d6-c208-bdb4e84ba731"
   },
   "outputs": [],
   "execution_count": null
  },
  {
   "cell_type": "markdown",
   "source": [
    "# Creating Model & Dataloader"
   ],
   "metadata": {
    "id": "AArTAbW35j7-"
   }
  },
  {
   "cell_type": "markdown",
   "source": [
    "### Creating Model"
   ],
   "metadata": {
    "id": "e8ce3jdc5pAn"
   }
  },
  {
   "cell_type": "code",
   "source": [
    "class SimpleCNN(nn.Module):\n",
    "    def __init__(self):\n",
    "        super(SimpleCNN, self).__init__()\n",
    "        self.conv1 = nn.Conv2d(1, 16, kernel_size=3, padding=1)\n",
    "        self.pool = nn.MaxPool2d(2, 2)\n",
    "        self.conv2 = nn.Conv2d(16, 32, kernel_size=3, padding=1)\n",
    "        self.fc1 = nn.Linear(32 * 16 * 16, 128)\n",
    "        self.fc2 = nn.Linear(128, 25)\n",
    "\n",
    "    def forward(self, x):\n",
    "        x = self.pool(F.relu(self.conv1(x)))\n",
    "        x = self.pool(F.relu(self.conv2(x)))\n",
    "        x = x.view(-1, 32 * 16 * 16)\n",
    "        x = F.relu(self.fc1(x))\n",
    "        x = self.fc2(x)\n",
    "        return x"
   ],
   "metadata": {
    "id": "jp7QTFvb5r8A"
   },
   "outputs": [],
   "execution_count": null
  },
  {
   "cell_type": "markdown",
   "source": [
    "### Preaparing Dataset"
   ],
   "metadata": {
    "id": "NAHJP0Ok58Eh"
   }
  },
  {
   "cell_type": "code",
   "source": [
    "class MalimgDataset(Dataset):\n",
    "    def __init__(self, root_dir):\n",
    "        self.data = []\n",
    "        self.labels = []\n",
    "        self.encoder = LabelEncoder()\n",
    "\n",
    "        classes = os.listdir(root_dir)\n",
    "        all_labels = []\n",
    "        for label in classes:\n",
    "            folder = os.path.join(root_dir, label)\n",
    "            for file in os.listdir(folder):\n",
    "                img_path = os.path.join(folder, file)\n",
    "                img = Image.open(img_path).convert('L').resize((64, 64))\n",
    "                self.data.append(np.array(img))\n",
    "                all_labels.append(label)\n",
    "\n",
    "        self.labels = self.encoder.fit_transform(all_labels)\n",
    "\n",
    "    def __len__(self):\n",
    "        return len(self.data)\n",
    "\n",
    "    def __getitem__(self, idx):\n",
    "        image = torch.tensor(self.data[idx], dtype=torch.float32).unsqueeze(0) / 255.0\n",
    "        label = torch.tensor(self.labels[idx], dtype=torch.long)\n",
    "        return image, label"
   ],
   "metadata": {
    "id": "9wQMfCnO6AP1"
   },
   "outputs": [],
   "execution_count": null
  },
  {
   "cell_type": "markdown",
   "source": [
    "### Creating Dataloader"
   ],
   "metadata": {
    "id": "qju0wuFM6Kh6"
   }
  },
  {
   "cell_type": "code",
   "source": [
    "batch_size = 32\n",
    "learning_rate = 0.001\n",
    "\n",
    "train_root_dir = os.path.join(path, 'malimg_dataset', 'train')\n",
    "train_dataset = MalimgDataset(train_root_dir)\n",
    "test_root_dir = os.path.join(path, 'malimg_dataset', 'test')\n",
    "test_dataset = MalimgDataset(test_root_dir)\n",
    "\n",
    "train_loader = DataLoader(train_dataset, batch_size=batch_size, shuffle=True)\n",
    "test_loader = DataLoader(test_dataset, batch_size=batch_size)\n",
    "\n",
    "model = SimpleCNN()\n",
    "criterion = nn.CrossEntropyLoss()\n",
    "optimizer = torch.optim.Adam(model.parameters(), lr=learning_rate)"
   ],
   "metadata": {
    "id": "Wt9ubpAs6MKx"
   },
   "outputs": [],
   "execution_count": null
  },
  {
   "cell_type": "markdown",
   "source": [
    "# Training & Test & Evaluation"
   ],
   "metadata": {
    "id": "M66pQKoI8KXc"
   }
  },
  {
   "cell_type": "markdown",
   "source": [
    "### Training Model"
   ],
   "metadata": {
    "id": "Tqjw9LUN8P9T"
   }
  },
  {
   "cell_type": "code",
   "source": [
    "for epoch in range(10):\n",
    "    running_loss = 0.0\n",
    "    for images, labels in train_loader:\n",
    "        optimizer.zero_grad()\n",
    "        outputs = model(images)\n",
    "        loss = criterion(outputs, labels)\n",
    "        loss.backward()\n",
    "        optimizer.step()\n",
    "        running_loss += loss.item()\n",
    "    print(f\"Epoch {epoch+1}, Loss: {running_loss:.4f}\")"
   ],
   "metadata": {
    "colab": {
     "base_uri": "https://localhost:8080/"
    },
    "id": "ciWZ2dnX8OPD",
    "outputId": "90ef2339-2e69-4ae0-9f4b-c06b21270c52"
   },
   "outputs": [],
   "execution_count": null
  },
  {
   "cell_type": "markdown",
   "source": [
    "### Test Model & Evaluation"
   ],
   "metadata": {
    "id": "MgLW1yT58Ssr"
   }
  },
  {
   "cell_type": "code",
   "source": [
    "correct = 0\n",
    "total = 0\n",
    "with torch.no_grad():\n",
    "    for images, labels in test_loader:\n",
    "        outputs = model(images)\n",
    "        _, predicted = torch.max(outputs.data, 1)\n",
    "        total += labels.size(0)\n",
    "        correct += (predicted == labels).sum().item()\n",
    "\n",
    "print(f\"Test Accuracy: {100 * correct / total:.2f}%\")"
   ],
   "metadata": {
    "colab": {
     "base_uri": "https://localhost:8080/"
    },
    "id": "Fz3yRdJw8UjU",
    "outputId": "891e7719-868f-4215-8152-be9b4e3c0e01"
   },
   "outputs": [],
   "execution_count": null
  }
 ]
}
